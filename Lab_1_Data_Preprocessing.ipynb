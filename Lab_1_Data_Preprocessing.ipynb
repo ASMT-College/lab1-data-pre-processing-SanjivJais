{
  "nbformat": 4,
  "nbformat_minor": 0,
  "metadata": {
    "colab": {
      "provenance": [],
      "authorship_tag": "ABX9TyM8C9cWts2QJdjUPXU9Aul7",
      "include_colab_link": true
    },
    "kernelspec": {
      "name": "python3",
      "display_name": "Python 3"
    },
    "language_info": {
      "name": "python"
    }
  },
  "cells": [
    {
      "cell_type": "markdown",
      "metadata": {
        "id": "view-in-github",
        "colab_type": "text"
      },
      "source": [
        "<a href=\"https://colab.research.google.com/github/ASMT-College/lab1-data-pre-processing-SanjivJais/blob/main/Lab_1_Data_Preprocessing.ipynb\" target=\"_parent\"><img src=\"https://colab.research.google.com/assets/colab-badge.svg\" alt=\"Open In Colab\"/></a>"
      ]
    },
    {
      "cell_type": "markdown",
      "source": [
        "**Lab 1.1: Data Cleaning**"
      ],
      "metadata": {
        "id": "Gp00ESi1_YZC"
      }
    },
    {
      "cell_type": "code",
      "execution_count": 5,
      "metadata": {
        "colab": {
          "base_uri": "https://localhost:8080/"
        },
        "id": "_etKPYgV8_uD",
        "outputId": "caecdfb9-1cba-4a51-e3a4-0a469d360dde"
      },
      "outputs": [
        {
          "output_type": "stream",
          "name": "stdout",
          "text": [
            "Initial rows of dataset: \n",
            "\n",
            "    ID     Name   Age       Department   Salary\n",
            "0   1     John  28.0               HR  50000.0\n",
            "1   2     Jane  35.0          Finance  60000.0\n",
            "2   3    Emily   NaN               HR  55000.0\n",
            "3   4  Michael  40.0  Human Resources      NaN\n",
            "4   5    Sarah  29.0               IT  52000.0\n",
            "\n",
            "\n",
            "Cleaned dataset: \n",
            "\n",
            "    ID     Name   Age Department   Salary\n",
            "0   1     John  28.0         HR  50000.0\n",
            "1   2     Jane  35.0    Finance  60000.0\n",
            "2   3    Emily  35.7         HR  55000.0\n",
            "3   4  Michael  40.0         HR  58100.0\n",
            "4   5    Sarah  29.0         IT  52000.0\n"
          ]
        }
      ],
      "source": [
        "import pandas as pd\n",
        "df = pd.read_csv(\"employee_data.csv\")\n",
        "print(\"Initial rows of dataset: \\n\\n\", df.head())\n",
        "\n",
        "# Handling missing valuesin the dataset\n",
        "# Using means to replace missing values\n",
        "\n",
        "df['Age'] = df['Age'].fillna(df['Age'].mean())\n",
        "df['Salary'] = df['Salary'].fillna(df['Salary'].mean())\n",
        "\n",
        "# Making department names consistent/standard\n",
        "df[\"Department\"] = df[\"Department\"].replace({\n",
        "    \"Human Resources\": \"HR\",\n",
        "    \"H.R.\": \"HR\",\n",
        "    \"hr\": \"HR\"\n",
        "})\n",
        "\n",
        "# Remove duplicates based on ID column\n",
        "df.drop_duplicates(subset=\"ID\", keep=\"first\", inplace=True)\n",
        "\n",
        "print(\"\\n\\nCleaned dataset: \\n\\n\", df.head())"
      ]
    },
    {
      "cell_type": "markdown",
      "source": [
        "**Lab 1.1 (Extra): Filling missing values by taking average of same department type**"
      ],
      "metadata": {
        "id": "fKlSveWsal6o"
      }
    },
    {
      "cell_type": "code",
      "source": [
        "import pandas as pd\n",
        "df = pd.read_csv(\"employee_data.csv\")\n",
        "print(\"Initial rows of dataset: \\n\\n\", df.head())\n",
        "\n",
        "# Making department names consistent/standard\n",
        "df[\"Department\"] = df[\"Department\"].replace({\n",
        "    \"Human Resources\": \"HR\",\n",
        "    \"H.R.\": \"HR\",\n",
        "    \"hr\": \"HR\"\n",
        "})\n",
        "\n",
        "# Remove duplicates based on Name column\n",
        "df.drop_duplicates(subset=\"Name\", keep=\"first\", inplace=True)\n",
        "\n",
        "# Filling missing values with the mean of the values from the same department\n",
        "df['Age'] = df.groupby('Department')['Age'].transform(lambda x: x.fillna(x.mean()))\n",
        "df['Salary'] = df.groupby('Department')['Salary'].transform(lambda x: x.fillna(x.mean()))\n",
        "\n",
        "\n",
        "print(\"\\n\\nCleaned dataset: \\n\\n\", df)"
      ],
      "metadata": {
        "colab": {
          "base_uri": "https://localhost:8080/"
        },
        "id": "1YDfJLNlaxd-",
        "outputId": "4260efca-f107-4604-d5a3-eb5cb3c51ed6"
      },
      "execution_count": 21,
      "outputs": [
        {
          "output_type": "stream",
          "name": "stdout",
          "text": [
            "Initial rows of dataset: \n",
            "\n",
            "    ID     Name   Age       Department   Salary\n",
            "0   1     John  28.0               HR  50000.0\n",
            "1   2     Jane  35.0          Finance  60000.0\n",
            "2   3    Emily   NaN               HR  55000.0\n",
            "3   4  Michael  40.0  Human Resources      NaN\n",
            "4   5    Sarah  29.0               IT  52000.0\n",
            "\n",
            "\n",
            "Cleaned dataset: \n",
            "\n",
            "    ID     Name   Age Department   Salary\n",
            "0   1     John  28.0         HR  50000.0\n",
            "1   2     Jane  35.0    Finance  60000.0\n",
            "2   3    Emily  33.6         HR  55000.0\n",
            "3   4  Michael  40.0         HR  56200.0\n",
            "4   5    Sarah  29.0         IT  52000.0\n",
            "5   6    David  50.0    Finance  75000.0\n",
            "6   7    Laura  38.0         HR  68000.0\n",
            "7   8   Robert  32.0         HR  57000.0\n",
            "8   9    Linda  45.0         IT  62000.0\n",
            "9  10    James  30.0         HR  51000.0\n"
          ]
        }
      ]
    },
    {
      "cell_type": "markdown",
      "source": [
        "**Lab 1.2: Data Normalization**"
      ],
      "metadata": {
        "id": "3DvU61XcC2v6"
      }
    },
    {
      "cell_type": "code",
      "source": [
        "import pandas as pd\n",
        "from sklearn.preprocessing import MinMaxScaler\n",
        "\n",
        "# Step 1: Load the dataset and display preview\n",
        "df = pd.read_csv(\"student_scores.csv\")\n",
        "print(\"Initial rows of dataset: \\n\\n\", df.head())\n",
        "\n",
        "# Step 2: Applying Min-Max normalization\n",
        "scaler = MinMaxScaler()\n",
        "df[['Math', 'Science', 'English']] = scaler.fit_transform(df[['Math', 'Science', 'English']])\n",
        "\n",
        "print(\"\\n\\nNormalized Scores:\\n\\n\", df.head())"
      ],
      "metadata": {
        "colab": {
          "base_uri": "https://localhost:8080/"
        },
        "id": "AVNJ2HoEC7gq",
        "outputId": "c3196ab1-d15c-44f5-d0f2-a1693bfc7bda"
      },
      "execution_count": 9,
      "outputs": [
        {
          "output_type": "stream",
          "name": "stdout",
          "text": [
            "Initial rows of dataset: \n",
            "\n",
            "    StudentID  Math  Science  English\n",
            "0          1    78       65       80\n",
            "1          2    88       75       85\n",
            "2          3    60       50       55\n",
            "3          4    90       78       92\n",
            "4          5    55       48       58\n",
            "\n",
            "\n",
            "Normalized Scores:\n",
            "\n",
            "    StudentID      Math  Science   English\n",
            "0          1  0.657143  0.53125  0.675676\n",
            "1          2  0.942857  0.84375  0.810811\n",
            "2          3  0.142857  0.06250  0.000000\n",
            "3          4  1.000000  0.93750  1.000000\n",
            "4          5  0.000000  0.00000  0.081081\n"
          ]
        }
      ]
    },
    {
      "cell_type": "markdown",
      "source": [
        "**Lab 1.3: Data Binning**"
      ],
      "metadata": {
        "id": "dUgqJAOfHDur"
      }
    },
    {
      "cell_type": "code",
      "source": [
        "import pandas as pd\n",
        "\n",
        "# Step 1: Import dataset and display head\n",
        "df = pd.read_csv(\"customer_ages.csv\")\n",
        "print(\"Intial dataset: \\n\\n\", df.head())\n",
        "\n",
        "# Step 2: Binning ages into following bins: Young (18-30), Middle-Aged (31-50), Senior (51-above)\n",
        "bins = [18, 30, 50, 100]\n",
        "labels = ['Young', 'Middle-Aged', 'Senior']\n",
        "df['Age_Group'] = pd.cut(df['Age'], bins=bins, labels=labels, right=False)\n",
        "\n",
        "print(\"\\n\\nBinned dataset: \\n\\n\", df.head())\n",
        "\n",
        "# Step 3: Calculating disribution of customers in each age group\n",
        "age_distribution = df['Age_Group'].value_counts()\n",
        "print(\"\\n\\nDistribution of customers in each age group: \\n\\n\", age_distribution)"
      ],
      "metadata": {
        "colab": {
          "base_uri": "https://localhost:8080/"
        },
        "id": "-mk00PRwHHky",
        "outputId": "35eaf608-2c58-486e-d5b1-d405d314d780"
      },
      "execution_count": 12,
      "outputs": [
        {
          "output_type": "stream",
          "name": "stdout",
          "text": [
            "Intial dataset: \n",
            "\n",
            "    CustomerID  Age\n",
            "0           1   25\n",
            "1           2   42\n",
            "2           3   36\n",
            "3           4   53\n",
            "4           5   28\n",
            "\n",
            "\n",
            "Binned dataset: \n",
            "\n",
            "    CustomerID  Age    Age_Group\n",
            "0           1   25        Young\n",
            "1           2   42  Middle-Aged\n",
            "2           3   36  Middle-Aged\n",
            "3           4   53       Senior\n",
            "4           5   28        Young\n",
            "\n",
            "\n",
            "Distribution of customers in each age group: \n",
            "\n",
            " Age_Group\n",
            "Middle-Aged    7\n",
            "Young          5\n",
            "Senior         3\n",
            "Name: count, dtype: int64\n"
          ]
        }
      ]
    },
    {
      "cell_type": "markdown",
      "source": [
        "**Lab 1.4: Data Discretization**"
      ],
      "metadata": {
        "id": "kKjg8ELMKJ5L"
      }
    },
    {
      "cell_type": "code",
      "source": [
        "import pandas as pd\n",
        "\n",
        "# Step 1: Load the dataset\n",
        "df = pd.read_csv('[sales_data.csv')\n",
        "print(\"Initial Data:\\n\", df.head())\n",
        "\n",
        "# Step 2: Applying discretization\n",
        "bins = [0, 5000, 20000, float('inf')]\n",
        "labels = ['Low', 'Medium', 'High']\n",
        "df['SalesCategory'] = pd.cut(df['Sales'], bins=bins, labels=labels)\n",
        "\n",
        "print(\"\\nData after Discretization:\\n\", df.head())\n",
        "\n",
        "# Step 3: Analyzing the distribution of sales categories\n",
        "sales_category_distribution = df['SalesCategory'].value_counts()\n",
        "print(\"\\nSales Category Distribution:\\n\", sales_category_distribution)\n"
      ],
      "metadata": {
        "colab": {
          "base_uri": "https://localhost:8080/"
        },
        "id": "KxsanNDLKREq",
        "outputId": "22f78176-ddbc-4554-f030-0d9446107477"
      },
      "execution_count": 13,
      "outputs": [
        {
          "output_type": "stream",
          "name": "stdout",
          "text": [
            "Initial Data:\n",
            "       Month  Sales\n",
            "0   January  15000\n",
            "1  February  18000\n",
            "2     March  12000\n",
            "3     April  30000\n",
            "4       May  22000\n",
            "\n",
            "Data after Discretization:\n",
            "       Month  Sales SalesCategory\n",
            "0   January  15000        Medium\n",
            "1  February  18000        Medium\n",
            "2     March  12000        Medium\n",
            "3     April  30000          High\n",
            "4       May  22000          High\n",
            "\n",
            "Sales Category Distribution:\n",
            " SalesCategory\n",
            "Medium    7\n",
            "High      4\n",
            "Low       1\n",
            "Name: count, dtype: int64\n"
          ]
        }
      ]
    },
    {
      "cell_type": "markdown",
      "source": [
        "**Lab 1.5: Feature Selection**"
      ],
      "metadata": {
        "id": "pAntMJ5-LhMS"
      }
    },
    {
      "cell_type": "code",
      "source": [
        "import pandas as pd\n",
        "from sklearn.feature_selection import SelectKBest, chi2\n",
        "\n",
        "# Step 1: Load the dataset\n",
        "df = pd.read_csv('medical_data.csv')\n",
        "print(\"Initial Data:\\n\", df.head())\n",
        "\n",
        "# Step 2: Define features and target variable\n",
        "X = df.drop(columns=['Disease'])\n",
        "y = df['Disease']\n",
        "\n",
        "# Step 3: Apply Chi-square feature selection\n",
        "selector = SelectKBest(score_func=chi2, k=3)\n",
        "selector.fit(X, y)\n",
        "\n",
        "# Step 4: Get the top 3 features\n",
        "top_features = X.columns[selector.get_support()]\n",
        "print(\"\\nTop 3 Features for Predicting Disease:\\n\", top_features)\n"
      ],
      "metadata": {
        "colab": {
          "base_uri": "https://localhost:8080/"
        },
        "id": "ESaT0uD8Llmy",
        "outputId": "7dad9d1d-c234-44b6-8cdc-9bd4f70360e0"
      },
      "execution_count": 15,
      "outputs": [
        {
          "output_type": "stream",
          "name": "stdout",
          "text": [
            "Initial Data:\n",
            "    PatientID  Age  BloodPressure  Cholesterol  Glucose  HeartRate  Disease\n",
            "0          1   45            130          180       95         70        1\n",
            "1          2   50            140          200      105         75        1\n",
            "2          3   60            150          240      120         80        1\n",
            "3          4   40            120          170       90         65        0\n",
            "4          5   35            110          160       85         60        0\n",
            "\n",
            "Top 3 Features for Predicting Disease:\n",
            " Index(['Age', 'Cholesterol', 'Glucose'], dtype='object')\n"
          ]
        }
      ]
    }
  ]
}